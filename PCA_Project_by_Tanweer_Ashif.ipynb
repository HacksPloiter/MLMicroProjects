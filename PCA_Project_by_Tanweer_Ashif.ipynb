{
 "cells": [
  {
   "cell_type": "markdown",
   "metadata": {},
   "source": [
    "# PCA Practice"
   ]
  },
  {
   "cell_type": "markdown",
   "metadata": {},
   "source": [
    "### PCA step by step, restoration of original data by Tanweer Ashif"
   ]
  },
  {
   "cell_type": "markdown",
   "metadata": {},
   "source": [
    "Step 1: Create the data"
   ]
  },
  {
   "cell_type": "code",
   "execution_count": 1,
   "metadata": {},
   "outputs": [
    {
     "name": "stdout",
     "output_type": "stream",
     "text": [
      "shape of data = (15, 2)\n",
      "\n",
      "Head of data:\n",
      "[[ 3 12]\n",
      " [ 4  3]\n",
      " [ 6  5]\n",
      " [ 7  7]\n",
      " [ 8  8]]\n"
     ]
    }
   ],
   "source": [
    "import numpy as np\n",
    "data = np.mat([[3, 4, 6, 7, 8, 3, 1, 4, 6, 12, 12, 3, 6, 8, 90],\n",
    "              [12, 3, 5, 7, 8, 4, 2, 4, 12, 34, 56 ,76, 5, 3, 5]]).T\n",
    "print(f\"shape of data = {data.shape}\")\n",
    "print(f\"\\nHead of data:\\n{data[:5]}\")"
   ]
  },
  {
   "cell_type": "markdown",
   "metadata": {},
   "source": [
    "Step 2: Standardize the data"
   ]
  },
  {
   "cell_type": "code",
   "execution_count": 2,
   "metadata": {},
   "outputs": [
    {
     "name": "stdout",
     "output_type": "stream",
     "text": [
      "Old mean = 13.633333333333333\n",
      "Old std = 21.412587160100223\n",
      "New mean = 5.736152293896643e-17\n",
      "New std = 0.9999999999999999\n"
     ]
    }
   ],
   "source": [
    "orig_mean = data.mean()\n",
    "print(f\"Old mean = {orig_mean}\")\n",
    "orig_std = data.std()\n",
    "print(f\"Old std = {orig_std}\")\n",
    "data_std = (data - data.mean())/data.std()\n",
    "# data_std = (data - np.mean(data))/np.std(data) # Can also be used.\n",
    "print(f\"New mean = {data_std.mean()}\")\n",
    "print(f\"New std = {data_std.std()}\")"
   ]
  },
  {
   "cell_type": "markdown",
   "metadata": {},
   "source": [
    "Step 3: Create co-variance Matrix"
   ]
  },
  {
   "cell_type": "code",
   "execution_count": 3,
   "metadata": {},
   "outputs": [
    {
     "name": "stdout",
     "output_type": "stream",
     "text": [
      "[[ 1.04965721 -0.09610035]\n",
      " [-0.09610035  1.07258919]]\n",
      "(2, 2)\n"
     ]
    }
   ],
   "source": [
    "cov_mat = np.cov(data_std, rowvar=False)\n",
    "print(cov_mat)\n",
    "print(cov_mat.shape)"
   ]
  },
  {
   "cell_type": "markdown",
   "metadata": {},
   "source": [
    "Step 4: Calculate Eigen Vectors and Eigen Values"
   ]
  },
  {
   "cell_type": "code",
   "execution_count": 4,
   "metadata": {},
   "outputs": [
    {
     "name": "stdout",
     "output_type": "stream",
     "text": [
      "eigval_std: [1.15790516 0.96434125]\n",
      "\n",
      "eigvec_std:\n",
      "[[ 0.66390045 -0.74782096]\n",
      " [-0.74782096 -0.66390045]]\n"
     ]
    }
   ],
   "source": [
    "eigval,eigvec = np.linalg.eig(cov_mat)\n",
    "sorting_index = np.argsort(-1.0*eigval)\n",
    "eigval_std = eigval[sorting_index]\n",
    "eigvec_std = eigvec[:,sorting_index].T\n",
    "del eigval\n",
    "del eigvec\n",
    "print(f\"eigval_std: {eigval_std}\")\n",
    "print(f\"\\neigvec_std:\\n{eigvec_std}\")"
   ]
  },
  {
   "cell_type": "markdown",
   "metadata": {},
   "source": [
    "Step 5: Calculate PC1 and PC2\n",
    "\n",
    "```PC1 = [data_std].[E1_std^T] - Result is colwise```\n",
    "\n",
    "and\n",
    "\n",
    "```PC2 = [data_std][E2_std^T] - Result is colwise```"
   ]
  },
  {
   "cell_type": "code",
   "execution_count": 5,
   "metadata": {},
   "outputs": [
    {
     "name": "stdout",
     "output_type": "stream",
     "text": [
      "data_std shape = (15, 2)\n",
      "\n",
      "eigvec1_std shape = (1, 2)\n",
      "PC1:\n",
      "[[-0.27264496]\n",
      " [ 0.07267946]\n",
      " [ 0.06484103]\n",
      " [ 0.02599745]\n",
      " [ 0.02207824]\n",
      " [ 0.00674994]\n",
      " [ 0.01458837]\n",
      " [ 0.03775509]\n",
      " [-0.17962951]\n",
      " [-0.7619346 ]\n",
      " [-1.53027058]\n",
      " [-2.50780417]\n",
      " [ 0.06484103]\n",
      " [ 0.19670005]\n",
      " [ 2.66927353]]\n",
      "\n",
      "eigvec2_std shape = (1, 2)\n",
      "PC2:\n",
      "[[ 0.42200413]\n",
      " [ 0.66612611]\n",
      " [ 0.53426709]\n",
      " [ 0.43733243]\n",
      " [ 0.37140292]\n",
      " [ 0.67004532]\n",
      " [ 0.80190435]\n",
      " [ 0.63512096]\n",
      " [ 0.31723105]\n",
      " [-0.57442841]\n",
      " [-1.25654168]\n",
      " [-1.56232539]\n",
      " [ 0.53426709]\n",
      " [ 0.52642866]\n",
      " [-2.39937938]]\n"
     ]
    }
   ],
   "source": [
    "# PC1\n",
    "print(f\"data_std shape = {data_std.shape}\")\n",
    "eigvec1_std = eigvec_std[:1,]\n",
    "print(f\"\\neigvec1_std shape = {eigvec1_std.shape}\")\n",
    "PC1 = data_std@eigvec1_std.T\n",
    "print(f\"PC1:\\n{PC1}\")\n",
    "\n",
    "# PC2\n",
    "eigvec2_std = eigvec_std[1:2,]\n",
    "print(f\"\\neigvec2_std shape = {eigvec2_std.shape}\")\n",
    "PC2 = data_std@eigvec2_std.T\n",
    "print(f\"PC2:\\n{PC2}\")"
   ]
  },
  {
   "cell_type": "markdown",
   "metadata": {},
   "source": [
    "Step 6: Verification by restoring original matrix\n",
    "\n",
    "```a\n",
    "Since,\n",
    "[PC_i] = [data_std].[Ei_std^T]\n",
    "=> [PC_all] = [data_std].[E_std^-1]\n",
    "=> [PC_all].E_std = [data_std]\n",
    "=> [data_std] = [PC_all].E_std\n",
    "and\n",
    "[data] = [data_std]*Orig_std + Orig_Mean"
   ]
  },
  {
   "cell_type": "code",
   "execution_count": 6,
   "metadata": {},
   "outputs": [
    {
     "name": "stdout",
     "output_type": "stream",
     "text": [
      "\n",
      "Restored_orig_std:\n",
      "[[ 3. 12.]\n",
      " [ 4.  3.]\n",
      " [ 6.  5.]\n",
      " [ 7.  7.]\n",
      " [ 8.  8.]\n",
      " [ 3.  4.]\n",
      " [ 1.  2.]\n",
      " [ 4.  4.]\n",
      " [ 6. 12.]\n",
      " [12. 34.]\n",
      " [12. 56.]\n",
      " [ 3. 76.]\n",
      " [ 6.  5.]\n",
      " [ 8.  3.]\n",
      " [90.  5.]]\n",
      "\n",
      "Orig data:\n",
      "[[ 3 12]\n",
      " [ 4  3]\n",
      " [ 6  5]\n",
      " [ 7  7]\n",
      " [ 8  8]\n",
      " [ 3  4]\n",
      " [ 1  2]\n",
      " [ 4  4]\n",
      " [ 6 12]\n",
      " [12 34]\n",
      " [12 56]\n",
      " [ 3 76]\n",
      " [ 6  5]\n",
      " [ 8  3]\n",
      " [90  5]]\n"
     ]
    }
   ],
   "source": [
    "PC_all = np.hstack((PC1,PC2))\n",
    "# print(PC_all)\n",
    "restored_std_data = PC_all@eigvec_std\n",
    "restored_orig_data = restored_std_data*orig_std + orig_mean\n",
    "print(f\"\\nRestored_orig_std:\\n{restored_orig_data}\")\n",
    "print(f\"\\nOrig data:\\n{data}\")"
   ]
  },
  {
   "cell_type": "markdown",
   "metadata": {},
   "source": [
    "### PCA using function"
   ]
  },
  {
   "cell_type": "code",
   "execution_count": 25,
   "metadata": {},
   "outputs": [
    {
     "name": "stdout",
     "output_type": "stream",
     "text": [
      "PCA:\n",
      "[[-0.27264496]\n",
      " [ 0.07267946]\n",
      " [ 0.06484103]\n",
      " [ 0.02599745]\n",
      " [ 0.02207824]\n",
      " [ 0.00674994]\n",
      " [ 0.01458837]\n",
      " [ 0.03775509]\n",
      " [-0.17962951]\n",
      " [-0.7619346 ]\n",
      " [-1.53027058]\n",
      " [-2.50780417]\n",
      " [ 0.06484103]\n",
      " [ 0.19670005]\n",
      " [ 2.66927353]]\n",
      "\n",
      "Can't restore orig mat from partial components!\n",
      "\n",
      "Restored Mat:\n",
      "None\n",
      "\n",
      "Orig Mat:\n",
      "[[ 3 12]\n",
      " [ 4  3]\n",
      " [ 6  5]\n",
      " [ 7  7]\n",
      " [ 8  8]\n",
      " [ 3  4]\n",
      " [ 1  2]\n",
      " [ 4  4]\n",
      " [ 6 12]\n",
      " [12 34]\n",
      " [12 56]\n",
      " [ 3 76]\n",
      " [ 6  5]\n",
      " [ 8  3]\n",
      " [90  5]]\n"
     ]
    }
   ],
   "source": [
    "import numpy as np\n",
    "\n",
    "def mypca(data, pca_dimension):\n",
    "    data_std = (data-data.mean())/data.std() #1\n",
    "    cov_mat = np.cov(data_std, rowvar=False) #2\n",
    "    eigval, eigvec = np.linalg.eig(cov_mat) #3\n",
    "    sorting_index = (-1*eigval).argsort(); del eigval\n",
    "    eigvec_std = eigvec[:,sorting_index].T; del eigvec\n",
    "    eigvec_std_selected = eigvec_std[:pca_dimension,:]\n",
    "    pca = data_std@eigvec_std_selected.T #4\n",
    "    return pca, eigvec_std_selected\n",
    "\n",
    "def restoremat(std, mean, eigvec_std, pca_mat):\n",
    "    pr, pc = pca.shape\n",
    "    er, ec = eigvec_std.shape\n",
    "    if pc != ec:\n",
    "        print(\"\\nCan't restore orig mat from partial components!\")\n",
    "        return\n",
    "    data_std = pca_mat@eigvec_std\n",
    "    orig_mat = (data_std)*std + mean\n",
    "    return orig_mat\n",
    "\n",
    "data = np.mat([[3, 4, 6, 7, 8, 3, 1, 4, 6, 12, 12, 3, 6, 8, 90],\n",
    "              [12, 3, 5, 7, 8, 4, 2, 4, 12, 34, 56 ,76, 5, 3, 5]]).T\n",
    "pca, eigvec_std = mypca(data, 1)\n",
    "print(f\"PCA:\\n{pca}\")\n",
    "print(f\"\\nRestored Mat:\\n{restoremat(data.std(), data.mean(), eigvec_std, pca)}\")\n",
    "print(f\"\\nOrig Mat:\\n{data}\")"
   ]
  }
 ],
 "metadata": {
  "kernelspec": {
   "display_name": "Python 3",
   "language": "python",
   "name": "python3"
  },
  "language_info": {
   "codemirror_mode": {
    "name": "ipython",
    "version": 3
   },
   "file_extension": ".py",
   "mimetype": "text/x-python",
   "name": "python",
   "nbconvert_exporter": "python",
   "pygments_lexer": "ipython3",
   "version": "3.11.4"
  }
 },
 "nbformat": 4,
 "nbformat_minor": 2
}
